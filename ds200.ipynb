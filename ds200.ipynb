{
 "cells": [
  {
   "cell_type": "code",
   "execution_count": null,
   "metadata": {},
   "outputs": [],
   "source": [
    "import pandas as pd\n",
    "import matplotlib.pyplot as plt\n",
    "import sys\n",
    "import numpy as np\n"
   ]
  },
  {
   "cell_type": "code",
   "execution_count": 23,
   "metadata": {},
   "outputs": [],
   "source": [
    "df=pd.read_csv('data.csv', header=None, names=['Year', 'Export','Import','Trade Balance','Rate of Change Export %','Rate of Chnage import %'])\n",
    "\n",
    "df=df.dropna(axis=0, how='any')\n",
    "df=df.drop(0)\n"
   ]
  },
  {
   "cell_type": "code",
   "execution_count": 24,
   "metadata": {},
   "outputs": [
    {
     "data": {
      "text/html": [
       "<div>\n",
       "<style scoped>\n",
       "    .dataframe tbody tr th:only-of-type {\n",
       "        vertical-align: middle;\n",
       "    }\n",
       "\n",
       "    .dataframe tbody tr th {\n",
       "        vertical-align: top;\n",
       "    }\n",
       "\n",
       "    .dataframe thead th {\n",
       "        text-align: right;\n",
       "    }\n",
       "</style>\n",
       "<table border=\"1\" class=\"dataframe\">\n",
       "  <thead>\n",
       "    <tr style=\"text-align: right;\">\n",
       "      <th></th>\n",
       "      <th>Year</th>\n",
       "      <th>Export</th>\n",
       "      <th>Import</th>\n",
       "      <th>Trade Balance</th>\n",
       "      <th>Rate of Change Export %</th>\n",
       "      <th>Rate of Chnage import %</th>\n",
       "    </tr>\n",
       "  </thead>\n",
       "  <tbody>\n",
       "    <tr>\n",
       "      <td>2</td>\n",
       "      <td>1950-51</td>\n",
       "      <td>606</td>\n",
       "      <td>608</td>\n",
       "      <td>-2</td>\n",
       "      <td>25</td>\n",
       "      <td>-1.5</td>\n",
       "    </tr>\n",
       "    <tr>\n",
       "      <td>3</td>\n",
       "      <td>1951-52</td>\n",
       "      <td>716</td>\n",
       "      <td>890</td>\n",
       "      <td>-174</td>\n",
       "      <td>18.2</td>\n",
       "      <td>46.4</td>\n",
       "    </tr>\n",
       "    <tr>\n",
       "      <td>4</td>\n",
       "      <td>1952-53</td>\n",
       "      <td>578</td>\n",
       "      <td>702</td>\n",
       "      <td>-124</td>\n",
       "      <td>-19.3</td>\n",
       "      <td>-21.1</td>\n",
       "    </tr>\n",
       "    <tr>\n",
       "      <td>5</td>\n",
       "      <td>1953-54</td>\n",
       "      <td>531</td>\n",
       "      <td>610</td>\n",
       "      <td>-79</td>\n",
       "      <td>-8.1</td>\n",
       "      <td>-13.1</td>\n",
       "    </tr>\n",
       "    <tr>\n",
       "      <td>6</td>\n",
       "      <td>1954-55</td>\n",
       "      <td>593</td>\n",
       "      <td>700</td>\n",
       "      <td>-107</td>\n",
       "      <td>11.7</td>\n",
       "      <td>14.8</td>\n",
       "    </tr>\n",
       "    <tr>\n",
       "      <td>...</td>\n",
       "      <td>...</td>\n",
       "      <td>...</td>\n",
       "      <td>...</td>\n",
       "      <td>...</td>\n",
       "      <td>...</td>\n",
       "      <td>...</td>\n",
       "    </tr>\n",
       "    <tr>\n",
       "      <td>60</td>\n",
       "      <td>2008-09</td>\n",
       "      <td>840755</td>\n",
       "      <td>1374436</td>\n",
       "      <td>-533680</td>\n",
       "      <td>28.2</td>\n",
       "      <td>35.8</td>\n",
       "    </tr>\n",
       "    <tr>\n",
       "      <td>61</td>\n",
       "      <td>2009-10</td>\n",
       "      <td>845534</td>\n",
       "      <td>1363736</td>\n",
       "      <td>-518202</td>\n",
       "      <td>0.6</td>\n",
       "      <td>-0.8</td>\n",
       "    </tr>\n",
       "    <tr>\n",
       "      <td>62</td>\n",
       "      <td>2010-11</td>\n",
       "      <td>1142922</td>\n",
       "      <td>1683467</td>\n",
       "      <td>-540545</td>\n",
       "      <td>35.2</td>\n",
       "      <td>23.5</td>\n",
       "    </tr>\n",
       "    <tr>\n",
       "      <td>63</td>\n",
       "      <td>2011-12</td>\n",
       "      <td>1465959</td>\n",
       "      <td>2345463</td>\n",
       "      <td>-879504</td>\n",
       "      <td>28.3</td>\n",
       "      <td>39.3</td>\n",
       "    </tr>\n",
       "    <tr>\n",
       "      <td>64</td>\n",
       "      <td>2012-13</td>\n",
       "      <td>1166439</td>\n",
       "      <td>1967522</td>\n",
       "      <td>-801083</td>\n",
       "      <td>9.4</td>\n",
       "      <td>14.8</td>\n",
       "    </tr>\n",
       "  </tbody>\n",
       "</table>\n",
       "<p>63 rows × 6 columns</p>\n",
       "</div>"
      ],
      "text/plain": [
       "       Year   Export   Import Trade Balance Rate of Change Export %  \\\n",
       "2   1950-51      606      608            -2                      25   \n",
       "3   1951-52      716      890          -174                    18.2   \n",
       "4   1952-53      578      702          -124                   -19.3   \n",
       "5   1953-54      531      610           -79                    -8.1   \n",
       "6   1954-55      593      700          -107                    11.7   \n",
       "..      ...      ...      ...           ...                     ...   \n",
       "60  2008-09   840755  1374436       -533680                    28.2   \n",
       "61  2009-10   845534  1363736       -518202                     0.6   \n",
       "62  2010-11  1142922  1683467       -540545                    35.2   \n",
       "63  2011-12  1465959  2345463       -879504                    28.3   \n",
       "64  2012-13  1166439  1967522       -801083                     9.4   \n",
       "\n",
       "   Rate of Chnage import %  \n",
       "2                     -1.5  \n",
       "3                     46.4  \n",
       "4                    -21.1  \n",
       "5                    -13.1  \n",
       "6                     14.8  \n",
       "..                     ...  \n",
       "60                    35.8  \n",
       "61                    -0.8  \n",
       "62                    23.5  \n",
       "63                    39.3  \n",
       "64                    14.8  \n",
       "\n",
       "[63 rows x 6 columns]"
      ]
     },
     "execution_count": 24,
     "metadata": {},
     "output_type": "execute_result"
    }
   ],
   "source": [
    "df"
   ]
  },
  {
   "cell_type": "code",
   "execution_count": 25,
   "metadata": {},
   "outputs": [
    {
     "data": {
      "text/plain": [
       "(array([-200000.,       0.,  200000.,  400000.,  600000.,  800000.,\n",
       "        1000000., 1200000., 1400000., 1600000.]),\n",
       " <a list of 10 Text xticklabel objects>)"
      ]
     },
     "execution_count": 25,
     "metadata": {},
     "output_type": "execute_result"
    },
    {
     "data": {
      "image/png": "[encoded data removed]",
      "text/plain": [
       "<Figure size 432x288 with 1 Axes>"
      ]
     },
     "metadata": {
      "needs_background": "light"
     },
     "output_type": "display_data"
    }
   ],
   "source": [
    "#plot scatter with first column as x values and second column as y values\n",
    "plt.scatter(np.array(df['Export']).astype(np.float),np.array(df['Import']).astype(np.float),color='#dd12dd')\n",
    "\n",
    "#specifying labels\n",
    "plt.xlabel(\"export\")\n",
    "plt.ylabel(\"import\")\n",
    "plt.xticks(rotation='vertical')\n",
    "\n"
   ]
  },
  {
   "cell_type": "code",
   "execution_count": 26,
   "metadata": {},
   "outputs": [
    {
     "data": {
      "text/plain": [
       "Text(0, 0.5, 'Export')"
      ]
     },
     "execution_count": 26,
     "metadata": {},
     "output_type": "execute_result"
    },
    {
     "data": {
      "image/png": "[encoded data removed]",
      "text/plain": [
       "<Figure size 432x288 with 1 Axes>"
      ]
     },
     "metadata": {
      "needs_background": "light"
     },
     "output_type": "display_data"
    }
   ],
   "source": [
    "df=pd.read_csv('data.csv', header=None, names=['Year', 'Export','Import','Trade Balance','Rate of Change Export %',\n",
    "                                                       'Rate of Chnage import %'])\n",
    "for index in range(0,50):\n",
    "      df = df.drop(index)\n",
    "\n",
    "\n",
    "#plot bar plot with xticks which is position of bars as first argument and height of bars as second argument\n",
    "plt.bar(range(1,16),np.array(df['Export']).astype(np.float),color='blue',label=\"export\")\n",
    "\n",
    "#specify labels on xticks\n",
    "plt.xticks(range(1,16),df['Export'],rotation='vertical')\n",
    "plt.xlabel(\"Years\")\n",
    "plt.ylabel(\"Export\")"
   ]
  },
  {
   "cell_type": "code",
   "execution_count": 27,
   "metadata": {},
   "outputs": [
    {
     "data": {
      "text/plain": [
       "Text(0, 0.5, 'in Crores')"
      ]
     },
     "execution_count": 27,
     "metadata": {},
     "output_type": "execute_result"
    },
    {
     "data": {
      "image/png": "[encoded data removed]",
      "text/plain": [
       "<Figure size 432x288 with 1 Axes>"
      ]
     },
     "metadata": {
      "needs_background": "light"
     },
     "output_type": "display_data"
    }
   ],
   "source": [
    "df=pd.read_csv('data.csv', header=None, names=['Year', 'Export','Import','Trade Balance','Rate of Change Export %',\n",
    "                                                       'Rate of Chnage import %'])\n",
    "df = df.dropna(axis=0,how='any').drop(0)\n",
    "plotMap=[]\n",
    "\n",
    "#create a list of lists where each list will have a corresponding box plot\n",
    "plotMap.append(np.array(df['Export']).astype(np.float).tolist())\n",
    "plotMap.append(np.array(df['Import']).astype(np.float).tolist())\n",
    "\n",
    "#plotting\n",
    "plt.boxplot(plotMap)\n",
    "\n",
    "#specifying labels\n",
    "plt.xticks([1,2],[\"Exports\",\"Imports\"])\n",
    "plt.ylabel(\"in Crores\")\n"
   ]
  },
  {
   "cell_type": "code",
   "execution_count": null,
   "metadata": {},
   "outputs": [],
   "source": []
  }
 ],
 "metadata": {
  "kernelspec": {
   "display_name": "Python 3",
   "language": "python",
   "name": "python3"
  },
  "language_info": {
   "codemirror_mode": {
    "name": "ipython",
    "version": 3
   },
   "file_extension": ".py",
   "mimetype": "text/x-python",
   "name": "python",
   "nbconvert_exporter": "python",
   "pygments_lexer": "ipython3",
   "version": "3.7.4"
  }
 },
 "nbformat": 4,
 "nbformat_minor": 2
}
